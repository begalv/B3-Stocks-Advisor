{
 "cells": [
  {
   "cell_type": "code",
   "execution_count": 1,
   "id": "afd3dad5",
   "metadata": {},
   "outputs": [],
   "source": [
    "from delfos.market.session import Session\n",
    "from delfos.broker.portfolio import Portfolio\n",
    "from datetime import datetime\n",
    "from matplotlib import pyplot as plt\n",
    "import datetime as dt\n",
    "import pandas as pd"
   ]
  },
  {
   "cell_type": "code",
   "execution_count": 2,
   "id": "6beeaebf",
   "metadata": {},
   "outputs": [],
   "source": [
    "dt = datetime(2021, 7, 21)\n",
    "\n",
    "session = Session(period=6)\n",
    "#session = Session(date=dt, period=4)"
   ]
  },
  {
   "cell_type": "code",
   "execution_count": 3,
   "id": "31e78129",
   "metadata": {},
   "outputs": [],
   "source": [
    "carteira = Portfolio(session)"
   ]
  },
  {
   "cell_type": "code",
   "execution_count": 4,
   "id": "58bbd8d1",
   "metadata": {
    "scrolled": false
   },
   "outputs": [
    {
     "name": "stdout",
     "output_type": "stream",
     "text": [
      "PETR4: qtd = 91, preco = 16.80956043956044, valor inicial = 1529.6699999999998, valor atual = 2778.230062484741\n",
      "Rentabilidade: 226.59%\n",
      "Valor ganho: 2217.4599999999996\n",
      "\n",
      "BPAC11: qtd = 556, preco = 10.570179856115109, valor inicial = 5877.02, valor atual = 18464.759490966797\n",
      "Rentabilidade: 224.81%\n",
      "Valor ganho: 624.3299999999999\n",
      "\n",
      "AZUL4: qtd = 86, preco = 21.94046511627907, valor inicial = 1886.88, valor atual = 1498.1200065612793\n",
      "Rentabilidade: -20.60%\n",
      "Valor ganho: 0\n",
      "\n",
      "CVCB3: qtd = 66, preco = 15.2, valor inicial = 1003.1999999999999, valor atual = 197.34000062942505\n",
      "Rentabilidade: -80.33%\n",
      "Valor ganho: 0\n",
      "\n",
      "FLRY3: qtd = 57, preco = 22.75989974937343, valor inicial = 1297.3142857142857, valor atual = 900.0299978256226\n",
      "Rentabilidade: -22.79%\n",
      "Valor ganho: 101.64\n",
      "\n",
      "MYPK3: qtd = 66, preco = 15.3, valor inicial = 1009.8000000000001, valor atual = 935.8800201416016\n",
      "Rentabilidade: 5.25%\n",
      "Valor ganho: 126.94999999999999\n",
      "\n",
      "ARZZ3: qtd = 19, preco = 56.365789473684224, valor inicial = 1070.9500000000003, valor atual = 1533.1100463867188\n",
      "Rentabilidade: 47.52%\n",
      "Valor ganho: 46.730000000000004\n",
      "\n",
      "MGLU3: qtd = 178, preco = 23.01174157303371, valor inicial = 4096.09, valor atual = 592.7399864196777\n",
      "Rentabilidade: -85.37%\n",
      "Valor ganho: 6.32\n",
      "\n",
      "TSLA34: qtd = 66, preco = 25.504545454545458, valor inicial = 1683.3000000000002, valor atual = 2515.260040283203\n",
      "Rentabilidade: 49.42%\n",
      "Valor ganho: 0\n",
      "\n",
      "AMZO34: qtd = 12, preco = 43.567499999999995, valor inicial = 522.81, valor atual = 370.5599899291992\n",
      "Rentabilidade: -29.12%\n",
      "Valor ganho: 0\n",
      "\n",
      "RDOR3: qtd = 59, preco = 36.0, valor inicial = 2124.0, valor atual = 2070.8999099731445\n",
      "Rentabilidade: 4.36%\n",
      "Valor ganho: 145.75\n",
      "\n",
      "ITSA4: qtd = 162, preco = 9.067607289829512, valor inicial = 1468.952380952381, valor atual = 1595.7000617980957\n",
      "Rentabilidade: 16.36%\n",
      "Valor ganho: 113.53\n",
      "\n",
      "BBAS3: qtd = 20, preco = 29.1, valor inicial = 582.0, valor atual = 951.3999938964844\n",
      "Rentabilidade: 89.63%\n",
      "Valor ganho: 152.27\n",
      "\n",
      "VALE3: qtd = 32, preco = 80.3465625, valor inicial = 2571.09, valor atual = 2146.8798828125\n",
      "Rentabilidade: -8.02%\n",
      "Valor ganho: 217.97\n",
      "\n",
      "BCFF11: qtd = 15, preco = 72.34, valor inicial = 1085.1000000000001, valor atual = 1075.3500366210938\n",
      "Rentabilidade: 12.18%\n",
      "Valor ganho: 141.90000000000003\n",
      "\n",
      "CASH3: qtd = 40, preco = 28.5, valor inicial = 1140.0, valor atual = 397.20001220703125\n",
      "Rentabilidade: -65.16%\n",
      "Valor ganho: 0\n",
      "\n",
      "BBDC4: qtd = 49, preco = 20.345454545454544, valor inicial = 996.9272727272727, valor atual = 814.38\n",
      "Rentabilidade: -13.80%\n",
      "Valor ganho: 45.01999999999999\n",
      "\n",
      "M1TA34: qtd = 25, preco = 47.13, valor inicial = 1178.25, valor atual = 1345.2500343322754\n",
      "Rentabilidade: 14.17%\n",
      "Valor ganho: 0\n",
      "\n",
      "VRTA11: qtd = 18, preco = 103.93111111111111, valor inicial = 1870.76, valor atual = 1625.759994506836\n",
      "Rentabilidade: 1.43%\n",
      "Valor ganho: 271.78\n",
      "\n",
      "JSRE11: qtd = 13, preco = 77.56, valor inicial = 1008.28, valor atual = 1023.0999603271484\n",
      "Rentabilidade: 8.90%\n",
      "Valor ganho: 74.88000000000001\n",
      "\n",
      "BRKM5: qtd = 15, preco = 37.96, valor inicial = 569.4, valor atual = 368.5499954223633\n",
      "Rentabilidade: -35.27%\n",
      "Valor ganho: 0\n",
      "\n",
      "NUBR33: qtd = 338, preco = 6.772485207100591, valor inicial = 2289.1, valor atual = 2112.5\n",
      "Rentabilidade: -7.71%\n",
      "Valor ganho: 0\n",
      "\n",
      "\n",
      "Valor gasto: 36,860.89\n",
      "\n",
      "Valor ganho: 4,286.53\n",
      "\n",
      "Valor atual: 45,313.00\n",
      "\n",
      "Diferença: 12,738.64\n",
      "\n",
      "Rentabilidade: 34.56%\n"
     ]
    }
   ],
   "source": [
    "for position in carteira.positions:\n",
    "    print(\"{}: qtd = {}, preco = {}, valor inicial = {}, valor atual = {}\".format(position, carteira.positions[position].quantity, carteira.positions[position].price_per_share, carteira.positions[position].held_shares_cost, carteira.positions[position].held_shares_value))\n",
    "    print( \"Rentabilidade:\", '{:,.2f}%'.format(carteira.positions[position].total_return * 100))\n",
    "    print(\"Valor ganho:\", carteira.positions[position].total_income)\n",
    "    print()\n",
    "print()\n",
    "print(\"Valor gasto:\", '{:,.2f}'.format(carteira.total_cost))\n",
    "print()\n",
    "print(\"Valor ganho:\", '{:,.2f}'.format(carteira.total_income))\n",
    "print()\n",
    "print(\"Valor atual:\", '{:,.2f}'.format(carteira.held_shares_value))\n",
    "print()\n",
    "print(\"Diferença:\", '{:,.2f}'.format(carteira.total_change))\n",
    "print()\n",
    "print(\"Rentabilidade:\", '{:,.2f}%'.format(carteira.total_return*100))"
   ]
  },
  {
   "cell_type": "code",
   "execution_count": 5,
   "id": "e41c38a1",
   "metadata": {
    "scrolled": true
   },
   "outputs": [
    {
     "data": {
      "text/plain": [
       "{'PETR4': 226.58613050427476,\n",
       " 'BPAC11': 224.80899317965225,\n",
       " 'BBAS3': 89.63401956984268,\n",
       " 'TSLA34': 49.42434742964432,\n",
       " 'ARZZ3': 47.51762887032246,\n",
       " 'ITSA4': 16.357077599066418,\n",
       " 'M1TA34': 14.17356540057504,\n",
       " 'BCFF11': 12.17860442549937,\n",
       " 'JSRE11': 8.896334384015212,\n",
       " 'MYPK3': 5.251536952030257,\n",
       " 'RDOR3': 4.3620484921442815,\n",
       " 'VRTA11': 1.4315034802345528,\n",
       " 'NUBR33': -7.714822419291421,\n",
       " 'VALE3': -8.021505166583058,\n",
       " 'BBDC4': -13.795115901588515,\n",
       " 'AZUL4': -20.60332365803447,\n",
       " 'FLRY3': -22.78894876470777,\n",
       " 'AMZO34': -29.12148009234727,\n",
       " 'BRKM5': -35.273973406680135,\n",
       " 'CASH3': -65.15789366604989,\n",
       " 'CVCB3': -80.32894730567932,\n",
       " 'MGLU3': -85.37483340405905}"
      ]
     },
     "execution_count": 5,
     "metadata": {},
     "output_type": "execute_result"
    }
   ],
   "source": [
    "carteira.positions\n",
    "\n",
    "rets_dict = {k: v for k, v in zip(carteira.positions.keys(), [v.total_return*100 for v in carteira.positions.values()])}\n",
    "{k: v for k, v in sorted(rets_dict.items(), key=lambda item: item[1], reverse=True)}"
   ]
  },
  {
   "cell_type": "code",
   "execution_count": 6,
   "id": "390a0e19",
   "metadata": {},
   "outputs": [
    {
     "data": {
      "text/plain": [
       "[]"
      ]
     },
     "execution_count": 6,
     "metadata": {},
     "output_type": "execute_result"
    }
   ],
   "source": [
    "carteira.failed_positions"
   ]
  },
  {
   "cell_type": "code",
   "execution_count": 7,
   "id": "230bbff1",
   "metadata": {
    "scrolled": false
   },
   "outputs": [
    {
     "data": {
      "text/html": [
       "<div>\n",
       "<style scoped>\n",
       "    .dataframe tbody tr th:only-of-type {\n",
       "        vertical-align: middle;\n",
       "    }\n",
       "\n",
       "    .dataframe tbody tr th {\n",
       "        vertical-align: top;\n",
       "    }\n",
       "\n",
       "    .dataframe thead th {\n",
       "        text-align: right;\n",
       "    }\n",
       "</style>\n",
       "<table border=\"1\" class=\"dataframe\">\n",
       "  <thead>\n",
       "    <tr style=\"text-align: right;\">\n",
       "      <th></th>\n",
       "      <th>Close</th>\n",
       "      <th>Cost</th>\n",
       "      <th>Close (no income)</th>\n",
       "      <th>Cash Flow</th>\n",
       "      <th>Daily Change w/ CF</th>\n",
       "      <th>Daily Change</th>\n",
       "      <th>Total change</th>\n",
       "      <th>Pct Change w/ CF</th>\n",
       "      <th>Daily Ret</th>\n",
       "      <th>Total Ret</th>\n",
       "    </tr>\n",
       "  </thead>\n",
       "  <tbody>\n",
       "    <tr>\n",
       "      <th>2020-03-12</th>\n",
       "      <td>159.968002</td>\n",
       "      <td>553.600000</td>\n",
       "      <td>159.968002</td>\n",
       "      <td>553.6</td>\n",
       "      <td>NaN</td>\n",
       "      <td>NaN</td>\n",
       "      <td>-393.631998</td>\n",
       "      <td>NaN</td>\n",
       "      <td>NaN</td>\n",
       "      <td>-0.711040</td>\n",
       "    </tr>\n",
       "    <tr>\n",
       "      <th>2020-03-13</th>\n",
       "      <td>195.516464</td>\n",
       "      <td>553.600000</td>\n",
       "      <td>195.516464</td>\n",
       "      <td>0.0</td>\n",
       "      <td>35.548462</td>\n",
       "      <td>35.548462</td>\n",
       "      <td>-358.083536</td>\n",
       "      <td>0.222222</td>\n",
       "      <td>0.222222</td>\n",
       "      <td>-0.646827</td>\n",
       "    </tr>\n",
       "    <tr>\n",
       "      <th>2020-03-16</th>\n",
       "      <td>4059.938799</td>\n",
       "      <td>5560.000000</td>\n",
       "      <td>4059.938799</td>\n",
       "      <td>5006.4</td>\n",
       "      <td>3864.422335</td>\n",
       "      <td>-1141.977665</td>\n",
       "      <td>-1500.061201</td>\n",
       "      <td>19.765202</td>\n",
       "      <td>-0.219530</td>\n",
       "      <td>-0.269795</td>\n",
       "    </tr>\n",
       "    <tr>\n",
       "      <th>2020-03-17</th>\n",
       "      <td>3988.356741</td>\n",
       "      <td>5560.000000</td>\n",
       "      <td>3988.356741</td>\n",
       "      <td>0.0</td>\n",
       "      <td>-71.582058</td>\n",
       "      <td>-71.582058</td>\n",
       "      <td>-1571.643259</td>\n",
       "      <td>-0.017631</td>\n",
       "      <td>-0.017631</td>\n",
       "      <td>-0.282670</td>\n",
       "    </tr>\n",
       "    <tr>\n",
       "      <th>2020-03-18</th>\n",
       "      <td>3722.257739</td>\n",
       "      <td>6128.000000</td>\n",
       "      <td>3722.257739</td>\n",
       "      <td>568.0</td>\n",
       "      <td>-266.099002</td>\n",
       "      <td>-834.099002</td>\n",
       "      <td>-2405.742261</td>\n",
       "      <td>-0.066719</td>\n",
       "      <td>-0.183063</td>\n",
       "      <td>-0.392582</td>\n",
       "    </tr>\n",
       "    <tr>\n",
       "      <th>...</th>\n",
       "      <td>...</td>\n",
       "      <td>...</td>\n",
       "      <td>...</td>\n",
       "      <td>...</td>\n",
       "      <td>...</td>\n",
       "      <td>...</td>\n",
       "      <td>...</td>\n",
       "      <td>...</td>\n",
       "      <td>...</td>\n",
       "      <td>...</td>\n",
       "    </tr>\n",
       "    <tr>\n",
       "      <th>2023-07-27</th>\n",
       "      <td>49751.796121</td>\n",
       "      <td>36860.893939</td>\n",
       "      <td>45465.266121</td>\n",
       "      <td>0.0</td>\n",
       "      <td>-539.350437</td>\n",
       "      <td>-539.350437</td>\n",
       "      <td>12890.902182</td>\n",
       "      <td>-0.010725</td>\n",
       "      <td>-0.010725</td>\n",
       "      <td>0.349718</td>\n",
       "    </tr>\n",
       "    <tr>\n",
       "      <th>2023-07-28</th>\n",
       "      <td>50102.966422</td>\n",
       "      <td>36860.893939</td>\n",
       "      <td>45816.436422</td>\n",
       "      <td>0.0</td>\n",
       "      <td>351.170301</td>\n",
       "      <td>351.170301</td>\n",
       "      <td>13242.072482</td>\n",
       "      <td>0.007058</td>\n",
       "      <td>0.007058</td>\n",
       "      <td>0.359244</td>\n",
       "    </tr>\n",
       "    <tr>\n",
       "      <th>2023-07-31</th>\n",
       "      <td>50476.507264</td>\n",
       "      <td>36860.893939</td>\n",
       "      <td>46189.977264</td>\n",
       "      <td>0.0</td>\n",
       "      <td>373.540843</td>\n",
       "      <td>373.540843</td>\n",
       "      <td>13615.613325</td>\n",
       "      <td>0.007455</td>\n",
       "      <td>0.007455</td>\n",
       "      <td>0.369378</td>\n",
       "    </tr>\n",
       "    <tr>\n",
       "      <th>2023-08-01</th>\n",
       "      <td>50144.749855</td>\n",
       "      <td>36860.893939</td>\n",
       "      <td>45858.219855</td>\n",
       "      <td>0.0</td>\n",
       "      <td>-331.757409</td>\n",
       "      <td>-331.757409</td>\n",
       "      <td>13283.855916</td>\n",
       "      <td>-0.006573</td>\n",
       "      <td>-0.006573</td>\n",
       "      <td>0.360378</td>\n",
       "    </tr>\n",
       "    <tr>\n",
       "      <th>2023-08-02</th>\n",
       "      <td>49599.529524</td>\n",
       "      <td>36860.893939</td>\n",
       "      <td>45312.999524</td>\n",
       "      <td>0.0</td>\n",
       "      <td>-545.220332</td>\n",
       "      <td>-545.220332</td>\n",
       "      <td>12738.635584</td>\n",
       "      <td>-0.010873</td>\n",
       "      <td>-0.010873</td>\n",
       "      <td>0.345587</td>\n",
       "    </tr>\n",
       "  </tbody>\n",
       "</table>\n",
       "<p>843 rows × 10 columns</p>\n",
       "</div>"
      ],
      "text/plain": [
       "                   Close          Cost  Close (no income)  Cash Flow  \\\n",
       "2020-03-12    159.968002    553.600000         159.968002      553.6   \n",
       "2020-03-13    195.516464    553.600000         195.516464        0.0   \n",
       "2020-03-16   4059.938799   5560.000000        4059.938799     5006.4   \n",
       "2020-03-17   3988.356741   5560.000000        3988.356741        0.0   \n",
       "2020-03-18   3722.257739   6128.000000        3722.257739      568.0   \n",
       "...                  ...           ...                ...        ...   \n",
       "2023-07-27  49751.796121  36860.893939       45465.266121        0.0   \n",
       "2023-07-28  50102.966422  36860.893939       45816.436422        0.0   \n",
       "2023-07-31  50476.507264  36860.893939       46189.977264        0.0   \n",
       "2023-08-01  50144.749855  36860.893939       45858.219855        0.0   \n",
       "2023-08-02  49599.529524  36860.893939       45312.999524        0.0   \n",
       "\n",
       "            Daily Change w/ CF  Daily Change  Total change  Pct Change w/ CF  \\\n",
       "2020-03-12                 NaN           NaN   -393.631998               NaN   \n",
       "2020-03-13           35.548462     35.548462   -358.083536          0.222222   \n",
       "2020-03-16         3864.422335  -1141.977665  -1500.061201         19.765202   \n",
       "2020-03-17          -71.582058    -71.582058  -1571.643259         -0.017631   \n",
       "2020-03-18         -266.099002   -834.099002  -2405.742261         -0.066719   \n",
       "...                        ...           ...           ...               ...   \n",
       "2023-07-27         -539.350437   -539.350437  12890.902182         -0.010725   \n",
       "2023-07-28          351.170301    351.170301  13242.072482          0.007058   \n",
       "2023-07-31          373.540843    373.540843  13615.613325          0.007455   \n",
       "2023-08-01         -331.757409   -331.757409  13283.855916         -0.006573   \n",
       "2023-08-02         -545.220332   -545.220332  12738.635584         -0.010873   \n",
       "\n",
       "            Daily Ret  Total Ret  \n",
       "2020-03-12        NaN  -0.711040  \n",
       "2020-03-13   0.222222  -0.646827  \n",
       "2020-03-16  -0.219530  -0.269795  \n",
       "2020-03-17  -0.017631  -0.282670  \n",
       "2020-03-18  -0.183063  -0.392582  \n",
       "...               ...        ...  \n",
       "2023-07-27  -0.010725   0.349718  \n",
       "2023-07-28   0.007058   0.359244  \n",
       "2023-07-31   0.007455   0.369378  \n",
       "2023-08-01  -0.006573   0.360378  \n",
       "2023-08-02  -0.010873   0.345587  \n",
       "\n",
       "[843 rows x 10 columns]"
      ]
     },
     "execution_count": 7,
     "metadata": {},
     "output_type": "execute_result"
    }
   ],
   "source": [
    "port_hist = carteira.portfolio_history\n",
    "\n",
    "#CONSERTOS DE DATAS AUSENTES NO HISTORICO BAIXADO DO YFINANCE\n",
    "port_hist = port_hist.drop(index=(datetime(2023, 3, 10))) #yfinance não manda o historico de BPAC11 no dia 10/03/2023\n",
    "#port_hist = port_hist.drop(index=(datetime(2023, 7, 27)))\n",
    "\n",
    "#port_hist[(port_hist[\"Cash Flow\"]> 0) | (port_hist[\"Cash Flow\"]< 0)]\n",
    "#port_hist[(port_hist.index.year == 2023) & (port_hist.index.month == 3)]\n",
    "port_hist"
   ]
  },
  {
   "cell_type": "code",
   "execution_count": 8,
   "id": "9658e972",
   "metadata": {},
   "outputs": [
    {
     "data": {
      "image/png": "[encoded data removed]",
      "text/plain": [
       "<Figure size 432x288 with 1 Axes>"
      ]
     },
     "metadata": {
      "needs_background": "light"
     },
     "output_type": "display_data"
    }
   ],
   "source": [
    "#ANÁLISE DO PORTFOLIO CONTRA O MERCADO E A RENDA FIXA\n",
    "\n",
    "\n",
    "market_hist = session.market_index.history[\"Close\"][session.market_index.history.index.date >= carteira.first_date]\n",
    "market_hist = market_hist.drop(index=(datetime(2023, 3, 10))) #yfinance não manda o historico de BPAC11 no dia 10/03/2023\n",
    "\n",
    "\n",
    "free_risk_hist = session.risk_free_rate_series\n",
    "free_risk_hist = free_risk_hist[free_risk_hist.index.date >= carteira.first_date]\n",
    "free_risk_hist = free_risk_hist \n",
    "\n",
    "\n",
    "plt.plot(port_hist[\"Total Ret\"]*100, label=\"Portfolio\")\n",
    "plt.plot((market_hist.pct_change().add(1).cumprod().sub(1) * 100), label=\"Ibovespa\")\n",
    "plt.plot((free_risk_hist.cumsum()* 100), label=\"Selic\")\n",
    "\n",
    "\n",
    "#add axes labels and a title\n",
    "plt.legend()\n",
    "\n",
    "plt.ylabel('Rentabilidade (%)', fontsize=14)\n",
    "plt.title('Performance do Portfolio', fontsize=16)\n",
    "\n",
    "plt.xticks(rotation=20)\n",
    "\n",
    "#plt.margins(0.2)\n",
    "  \n",
    "# Tweak spacing to prevent clipping of tick-labels\n",
    "plt.subplots_adjust(bottom = 0.1)\n",
    "\n",
    "plt.show()"
   ]
  },
  {
   "cell_type": "code",
   "execution_count": 9,
   "id": "e5ce92da",
   "metadata": {},
   "outputs": [
    {
     "name": "stdout",
     "output_type": "stream",
     "text": [
      "Rentabilidades (TOTAL):\n",
      "\n",
      "Ibov:  66.51 %\n",
      "Portfolio:  34.56 %\n",
      "Selic:  24.36 %\n",
      "Portfolio (CDI):  141.87 %\n"
     ]
    }
   ],
   "source": [
    "print(\"Rentabilidades (TOTAL):\\n\")\n",
    "\n",
    "print(\"Ibov: \", round(float( (market_hist.pct_change().add(1).cumprod().sub(1)).iloc[-1]),4)*100, \"%\")\n",
    "print(\"Portfolio: \", round(carteira.total_return, 4)*100, \"%\")\n",
    "print(\"Selic: \", round(float(free_risk_hist.cumsum().iloc[-1]), 4)*100, \"%\")\n",
    "\n",
    "port_cdi = round(float((carteira.total_return * 100) / free_risk_hist.cumsum().iloc[-1]), 2)\n",
    "\n",
    "print(\"Portfolio (CDI): \", port_cdi, \"%\")"
   ]
  },
  {
   "cell_type": "code",
   "execution_count": null,
   "id": "d22f2a37",
   "metadata": {},
   "outputs": [],
   "source": [
    "pos = carteira.positions[\"BPAC11\"]\n",
    "#pos.history[(pos.history.index.year == 2023) & (pos.history.index.month == 3)]\n",
    "pos.history\n",
    "#pos.history[pos.history[\"Cash Flow\"]> 0]"
   ]
  },
  {
   "cell_type": "code",
   "execution_count": null,
   "id": "30287045",
   "metadata": {},
   "outputs": [],
   "source": [
    "stock = session.select_stocks(\"BPAC11\")"
   ]
  },
  {
   "cell_type": "code",
   "execution_count": null,
   "id": "3b765e5a",
   "metadata": {},
   "outputs": [],
   "source": [
    "stock.history"
   ]
  },
  {
   "cell_type": "code",
   "execution_count": null,
   "id": "ed5e9392",
   "metadata": {},
   "outputs": [],
   "source": [
    "stock.current_price"
   ]
  },
  {
   "cell_type": "markdown",
   "id": "46ee0acf",
   "metadata": {},
   "source": [
    "### Testes com o Portfolio Total (cash.json)"
   ]
  },
  {
   "cell_type": "code",
   "execution_count": null,
   "id": "3f4d88fe",
   "metadata": {
    "scrolled": true
   },
   "outputs": [],
   "source": [
    "#--------------------------------- TESTES COM PORTFOLIO TOTAL (CASH_FILE) ----------------------------------------------\n",
    "\n",
    "\n",
    "import pandas as pd\n",
    "import json\n",
    "\n",
    "with open(\"./delfos/data/broker/cash.json\", \"r\") as cash_file:\n",
    "    cash_data = json.load(cash_file)\n",
    "    \n",
    "net_data_hist = []\n",
    "for data in cash_data:\n",
    "    date = data[\"date\"]\n",
    "    available_cash = data[\"available_cash\"]\n",
    "    net_data = data[\"net_worth\"]\n",
    "    \n",
    "    if net_data[\"broker\"] < 0:\n",
    "        net_data[\"broker\"] = 0\n",
    "        \n",
    "    net_data.update({\"date\": date})\n",
    "    net_data_hist.append(net_data)\n",
    "\n",
    "df = pd.DataFrame(net_data_hist).set_index(\"date\")\n",
    "df.index = pd.to_datetime(df.index, format=\"%d-%m-%Y\")\n",
    "\n",
    "df = df.merge(carteira.portfolio_history[\"Close (no income)\"], left_index=True, right_index=True, how=\"outer\")\n",
    "\n",
    "df = df.rename(columns={\"Close (no income)\": \"stocks\"})\n",
    "\n",
    "df = df.fillna(method='bfill')\n",
    "df = df.fillna(method='ffill')\n",
    "#df = df.dropna()\n",
    "\n",
    "df[\"total\"] = df.sum(axis=1)\n",
    "df[\"total_stocks\"] = df[\"stocks\"] + df[\"stocks_funds\"]\n",
    "df[\"total_fixed\"] = df[\"bank\"] + df[\"savings\"] + df[\"public_bonds\"]\n",
    "\n",
    "df = df.drop(index=(datetime(2023, 3, 10))) #yfinance não manda o historico de BPAC11 no dia 10/03/2023"
   ]
  },
  {
   "cell_type": "code",
   "execution_count": null,
   "id": "5106b0e0",
   "metadata": {},
   "outputs": [],
   "source": [
    "df"
   ]
  },
  {
   "cell_type": "code",
   "execution_count": null,
   "id": "04afe812",
   "metadata": {
    "scrolled": true
   },
   "outputs": [],
   "source": [
    "df[\"total\"]"
   ]
  },
  {
   "cell_type": "code",
   "execution_count": null,
   "id": "d68db54c",
   "metadata": {},
   "outputs": [],
   "source": [
    "df[\"total\"].plot()"
   ]
  },
  {
   "cell_type": "code",
   "execution_count": null,
   "id": "397dc533",
   "metadata": {},
   "outputs": [],
   "source": [
    "for col in df.columns[:-3]:\n",
    "    pct = df.iloc[-1][col] / df.iloc[-1][\"total\"]\n",
    "    print(col + \": \" + str(round(pct*100, 2)) + \"%\")"
   ]
  },
  {
   "cell_type": "code",
   "execution_count": null,
   "id": "98e3c72b",
   "metadata": {},
   "outputs": [],
   "source": [
    "stocks_pct = df.iloc[-1][\"total_stocks\"] / df.iloc[-1][\"total\"]\n",
    "fixed_pct = df.iloc[-1][\"total_fixed\"] / df.iloc[-1][\"total\"]\n",
    "cash_pct = df.iloc[-1][\"broker\"] / df.iloc[-1][\"total\"]\n",
    "\n",
    "print(\"Stocks: \", round(stocks_pct * 100, 2), \"%\")\n",
    "print(\"Fixed Income: \", round(fixed_pct * 100, 2), \"%\")\n",
    "print(\"Cash: \", round( cash_pct * 100, 2), \"%\")"
   ]
  }
 ],
 "metadata": {
  "kernelspec": {
   "display_name": "Python 3 (ipykernel)",
   "language": "python",
   "name": "python3"
  },
  "language_info": {
   "codemirror_mode": {
    "name": "ipython",
    "version": 3
   },
   "file_extension": ".py",
   "mimetype": "text/x-python",
   "name": "python",
   "nbconvert_exporter": "python",
   "pygments_lexer": "ipython3",
   "version": "3.9.8"
  }
 },
 "nbformat": 4,
 "nbformat_minor": 5
}
